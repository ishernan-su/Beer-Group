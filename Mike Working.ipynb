{
 "cells": [
  {
   "cell_type": "code",
   "execution_count": 1,
   "metadata": {},
   "outputs": [],
   "source": [
    "#imports the modules we need\n",
    "import pandas as pd \n",
    "import folium\n",
    "import warnings\n",
    "import random\n",
    "from IPython.display import display\n",
    "warnings.filterwarnings('ignore')"
   ]
  },
  {
   "cell_type": "code",
   "execution_count": 2,
   "metadata": {},
   "outputs": [],
   "source": [
    "#read the data into pandas\n",
    "beer_data = pd.read_csv(\"Beers.csv\")\n",
    "store_data = pd.read_csv(\"Stores.csv\")"
   ]
  },
  {
   "cell_type": "code",
   "execution_count": 3,
   "metadata": {},
   "outputs": [],
   "source": [
    "def beer_select():\n",
    "    try:\n",
    "        for index, row in beer_data.iterrows():          #iterates rows in the DataFrame \n",
    "            print(row['Series'], row['Beer Name'])\n",
    "\n",
    "        your_beer = int(input(\"Input the beer's number that you'd like to look up: \"))\n",
    "        if your_beer > 9:\n",
    "            print(\"Please type a valid integer.\")\n",
    "        elif your_beer < 0:\n",
    "            print(\"Please type a valid integer.\")\n",
    "        else:\n",
    "            your_beer = str(your_beer)\n",
    "            beer = str(\"Beer \" + your_beer) #concantonates variable into a usuable key\n",
    "            return beer\n",
    "    except ValueError:\n",
    "        print(\"Please type the integer that corresponds with the beer you'd like to look up.\")\n",
    "\n"
   ]
  },
  {
   "cell_type": "code",
   "execution_count": 18,
   "metadata": {},
   "outputs": [],
   "source": [
    "def display_map(carries_beer):\n",
    "    Syracuse = (43.0481,-76.1474) #location of interest\n",
    "    colors = ['red', 'blue', 'green', 'orange', 'darkred', 'darkblue', 'darkgreen',\n",
    "                'gray', 'black',] #colors were taken from help(folium.Icon), gave a couple but thought dark colors would be best\n",
    "    map = folium.Map(location=Syracuse, zoom_start=11) #map is being assign here and we are utilizing folium, location variable, and a view of 11.\n",
    "    for row in carries_beer.to_records():      #definite loop to iterate over carries_beer variable\n",
    "        pos = (row['Lat'],row['Long'])    #desired location\n",
    "        message = \"%s, %s, Last Stocked: %s\" % (row['Store Name'],row['Address'], row['Last Stocked'])\n",
    "        #message displayed on pop up on map view. will give these details.\n",
    "        marker = folium.Marker(location=pos, \n",
    "                        popup=message,\n",
    "                        icon=folium.Icon(color = random.choice(colors), icon='beer', prefix='fa'))\n",
    "        #assigning variable to marker, using location and coordinates. pop up message will display details. icon was used from font awesome. prefix is important.\n",
    "        map.add_child(marker)\n",
    "    display(map)"
   ]
  },
  {
   "cell_type": "code",
   "execution_count": 27,
   "metadata": {},
   "outputs": [
    {
     "name": "stdout",
     "output_type": "stream",
     "text": [
      "0 Green IPA\n",
      "1 Blue Double IPA\n",
      "2 Red Lager\n",
      "3 Pink Lager Lite\n",
      "4 Yellow Whitbier\n",
      "5 White Pilsner\n",
      "6 Brown Ale\n",
      "7 Black Porter\n",
      "8 Violet Bock\n",
      "9 Golden Steam\n",
      "Input the beer's number that you'd like to look up: 7\n"
     ]
    },
    {
     "data": {
      "text/html": [
       "<div style=\"width:100%;\"><div style=\"position:relative;width:100%;height:0;padding-bottom:60%;\"><iframe src=\"data:text/html;charset=utf-8;base64,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\" style=\"position:absolute;width:100%;height:100%;left:0;top:0;border:none !important;\" allowfullscreen webkitallowfullscreen mozallowfullscreen></iframe></div></div>"
      ],
      "text/plain": [
       "<folium.folium.Map at 0x1ae44c4e518>"
      ]
     },
     "metadata": {},
     "output_type": "display_data"
    },
    {
     "name": "stdout",
     "output_type": "stream",
     "text": [
      "0 Green IPA\n",
      "1 Blue Double IPA\n",
      "2 Red Lager\n",
      "3 Pink Lager Lite\n",
      "4 Yellow Whitbier\n",
      "5 White Pilsner\n",
      "6 Brown Ale\n",
      "7 Black Porter\n",
      "8 Violet Bock\n",
      "9 Golden Steam\n",
      "Input the beer's number that you'd like to look up: 8\n"
     ]
    },
    {
     "data": {
      "text/html": [
       "<div style=\"width:100%;\"><div style=\"position:relative;width:100%;height:0;padding-bottom:60%;\"><iframe src=\"data:text/html;charset=utf-8;base64,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\" style=\"position:absolute;width:100%;height:100%;left:0;top:0;border:none !important;\" allowfullscreen webkitallowfullscreen mozallowfullscreen></iframe></div></div>"
      ],
      "text/plain": [
       "<folium.folium.Map at 0x1ae2c172278>"
      ]
     },
     "metadata": {},
     "output_type": "display_data"
    },
    {
     "name": "stdout",
     "output_type": "stream",
     "text": [
      "0 Green IPA\n",
      "1 Blue Double IPA\n",
      "2 Red Lager\n",
      "3 Pink Lager Lite\n",
      "4 Yellow Whitbier\n",
      "5 White Pilsner\n",
      "6 Brown Ale\n",
      "7 Black Porter\n",
      "8 Violet Bock\n",
      "9 Golden Steam\n",
      "Input the beer's number that you'd like to look up: \n",
      "Please type the integer that corresponds with the beer you'd like to look up.\n",
      "You have quit this program.\n"
     ]
    }
   ],
   "source": [
    "beer = beer_select() #calls function to select the beer and returns beer into global-variable\n",
    "try:\n",
    "    carries_beer = store_data [ store_data[beer] == True]   #selects from the list, only the stores that carry the selection\n",
    "    display_map(carries_beer)\n",
    "except ValueError:\n",
    "    print(\"You have selected an invalid number.\")\n",
    "\n",
    "    "
   ]
  },
  {
   "cell_type": "code",
   "execution_count": 24,
   "metadata": {},
   "outputs": [
    {
     "data": {
      "text/plain": [
       "NoneType"
      ]
     },
     "execution_count": 24,
     "metadata": {},
     "output_type": "execute_result"
    }
   ],
   "source": [
    "type(beer)\n"
   ]
  },
  {
   "cell_type": "code",
   "execution_count": null,
   "metadata": {},
   "outputs": [],
   "source": [
    "#function to get stores that carry the beer\n",
    "carries_beer = store_data [ store_data[beer] == True]\n",
    "print(carries_beer)"
   ]
  },
  {
   "cell_type": "code",
   "execution_count": null,
   "metadata": {
    "scrolled": true
   },
   "outputs": [],
   "source": [
    "#iterate rows to populate folium\n",
    "for index, row in carries_beer.iterrows():\n",
    "    store = row['Store Name']\n",
    "    address = row['Address']\n",
    "    lat = row['Lat']\n",
    "    long = row['Long']\n",
    "    date = row['Last Stocked']\n",
    "    #print(\"Your beer is located at %s, %s which is located at %.3f latitude and %.3f longitude, Last stocked: %s\"  % (store, address, lat, long, date))\n",
    "    #populate follium markers     "
   ]
  },
  {
   "cell_type": "code",
   "execution_count": null,
   "metadata": {
    "scrolled": true
   },
   "outputs": [],
   "source": [
    "Syracuse = (43.0481,-76.1474) #location of interest\n",
    "colors = ['red', 'blue', 'green', 'orange', 'darkred', 'darkblue', 'darkgreen',\n",
    "            'gray', 'black',] #colors were taken from help(folium.Icon), gave a couple but thought dark colors would be best\n",
    "map = folium.Map(location=Syracuse, zoom_start=11) #map is being assign here and we are utilizing folium, location variable, and a view of 11.\n",
    "for row in carries_beer.to_records():      #definite loop to iterate over carries_beer variable\n",
    "    pos = (row['Lat'],row['Long'])    #desired location\n",
    "    message = \"%s, %s, Last Stocked: %s\" % (row['Store Name'],row['Address'], row['Last Stocked'])\n",
    "    #message displayed on pop up on map view. will give these details.\n",
    "    marker = folium.Marker(location=pos, \n",
    "                    popup=message,\n",
    "                    icon=folium.Icon(color = random.choice(colors), icon='beer', prefix='fa'))\n",
    "    #assigning variable to marker, using location and coordinates. pop up message will display details. icon was used from font awesome. prefix is important.\n",
    "    map.add_child(marker)\n",
    "map"
   ]
  },
  {
   "cell_type": "code",
   "execution_count": null,
   "metadata": {},
   "outputs": [],
   "source": [
    "help(map)"
   ]
  },
  {
   "cell_type": "code",
   "execution_count": null,
   "metadata": {},
   "outputs": [],
   "source": [
    "store_data\n"
   ]
  },
  {
   "cell_type": "code",
   "execution_count": null,
   "metadata": {},
   "outputs": [],
   "source": [
    "help(folium.Icon)"
   ]
  },
  {
   "cell_type": "code",
   "execution_count": null,
   "metadata": {},
   "outputs": [],
   "source": []
  }
 ],
 "metadata": {
  "kernelspec": {
   "display_name": "Python 3",
   "language": "python",
   "name": "python3"
  },
  "language_info": {
   "codemirror_mode": {
    "name": "ipython",
    "version": 3
   },
   "file_extension": ".py",
   "mimetype": "text/x-python",
   "name": "python",
   "nbconvert_exporter": "python",
   "pygments_lexer": "ipython3",
   "version": "3.6.6"
  }
 },
 "nbformat": 4,
 "nbformat_minor": 2
}
