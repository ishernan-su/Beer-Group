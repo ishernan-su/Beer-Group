{
 "cells": [
  {
   "cell_type": "code",
   "execution_count": 7,
   "metadata": {},
   "outputs": [],
   "source": [
    "#imports the modules we need\n",
    "import pandas as pd \n",
    "import warnings     \n",
    "warnings.filterwarnings('ignore')"
   ]
  },
  {
   "cell_type": "code",
   "execution_count": 8,
   "metadata": {},
   "outputs": [],
   "source": [
    "#read the data into pandas\n",
    "beer_data = pd.read_csv(\"Beers.csv\")\n",
    "store_data = pd.read_csv(\"Stores.csv\")"
   ]
  },
  {
   "cell_type": "code",
   "execution_count": 29,
   "metadata": {},
   "outputs": [
    {
     "name": "stdout",
     "output_type": "stream",
     "text": [
      "0 Green IPA\n",
      "1 Blue Double IPA\n",
      "2 Red Lager\n",
      "3 Pink Lager Lite\n",
      "4 Yellow Whitbier\n",
      "5 White Pilsner\n",
      "6 Brown Ale\n",
      "7 Black Porter\n",
      "8 Violet Bock\n",
      "9 Golden Steam\n",
      "Input the beer's number that you'd like to look up: 6\n"
     ]
    }
   ],
   "source": [
    "for index, row in beer_data.iterrows():          #iterates rows in the DataFrame \n",
    "    print(row['Series'], row['Beer Name'])\n",
    "    \n",
    "your_beer = int(input(\"Input the beer's number that you'd like to look up: \"))\n",
    "\n"
   ]
  },
  {
   "cell_type": "code",
   "execution_count": 31,
   "metadata": {},
   "outputs": [
    {
     "data": {
      "text/plain": [
       "6"
      ]
     },
     "execution_count": 31,
     "metadata": {},
     "output_type": "execute_result"
    }
   ],
   "source": [
    "your_beer"
   ]
  },
  {
   "cell_type": "code",
   "execution_count": null,
   "metadata": {},
   "outputs": [],
   "source": []
  },
  {
   "cell_type": "code",
   "execution_count": null,
   "metadata": {},
   "outputs": [],
   "source": []
  }
 ],
 "metadata": {
  "kernelspec": {
   "display_name": "Python 3",
   "language": "python",
   "name": "python3"
  },
  "language_info": {
   "codemirror_mode": {
    "name": "ipython",
    "version": 3
   },
   "file_extension": ".py",
   "mimetype": "text/x-python",
   "name": "python",
   "nbconvert_exporter": "python",
   "pygments_lexer": "ipython3",
   "version": "3.6.6"
  }
 },
 "nbformat": 4,
 "nbformat_minor": 2
}
