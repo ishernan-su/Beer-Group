{
 "cells": [
  {
   "cell_type": "markdown",
   "metadata": {},
   "source": [
    "Problem Analysis:\n",
    "\n",
    "Inputs:\n",
    "1. Beer selection from a list\n",
    "\n",
    "Outputs: \n",
    "1. Map of stores that carry the beer and when they were last stocked\n",
    "\n",
    "Algorithm:\n",
    "1. Import modules\n",
    "2. Select the beer from a dataframe of beers or quit\n",
    "3. Make key to access second dataframe of stores\n",
    "4. Sort stores that carry that selection\n",
    "5. Populate map with store-locations and stock-dates for stores that carry that selection"
   ]
  },
  {
   "cell_type": "markdown",
   "metadata": {},
   "source": [
    "Use of custom-DataFrames:\n",
    "    We cleared the use of custom-DataFrames with Prof. Rieks. As we used a fictional-brewery, the use of available-APIs would have required corrupting them with fictional-data. This is due to the various alcohol-laws that require brewers to use a \"distributor\". Distributors buy beer from local-sources and then decide where to sell it. \n",
    "    As a model, we used a local-brewery ('Buried Acorn'), as a guide. Mike got a bad-batch of beer and emailed the brewery to let them know. They were grateful for the information and replaced the beer, but did not know that their beer was sold in the gas-station he bought it at. Also, they could not state where their other beers could be found. \"It's up to the distributor.\" The distributor was less-than-helpful about sharing their distribution data (this was long before the project). \n",
    "    Some states allow direct-distribution for brewaries under a certain-size. This app would be aimed at those businesses. It's such a niche-market, that it required creating our own data-set for a fictional-brewery as a proof-of-concept, rather than try to sort out the legal-and-regulatory requirements to using one in a state that allows it. "
   ]
  },
  {
   "cell_type": "code",
   "execution_count": 1,
   "metadata": {},
   "outputs": [],
   "source": [
    "#imports the modules we need\n",
    "import pandas as pd #needed to read-in the data-frame\n",
    "import folium   #needed to plot returns\n",
    "import warnings #needed to ignore warnings that would pop-up during code-building\n",
    "import random   #needed for random-color markers in plot\n",
    "from IPython.display import display  #needed to display the map while inside a function\n",
    "warnings.filterwarnings('ignore')\n",
    "\n",
    "#read the data into pandas\n",
    "beer_data = pd.read_csv(\"Beers.csv\")\n",
    "store_data = pd.read_csv(\"Stores.csv\")"
   ]
  },
  {
   "cell_type": "code",
   "execution_count": 2,
   "metadata": {},
   "outputs": [],
   "source": [
    "def beer_select():\n",
    "    try:\n",
    "        for index, row in beer_data.iterrows():          #iterates rows in the DataFrame \n",
    "            print(row['Series'], row['Beer Name'])   #displays the list to prompt the input\n",
    "\n",
    "        your_beer = int(input(\"Input the beer's number that you'd like to look up or hit 'Enter' to quit: \"))\n",
    "        if your_beer > 9:                               #if/elif/else excepts for integers outside of the range\n",
    "            print(\"Please type a valid integer.\")\n",
    "        elif your_beer < 0:\n",
    "            print(\"Please type a valid integer.\")\n",
    "        else:\n",
    "            your_beer = str(your_beer)   #converts the int-variable 'your_beer' into a string for concantonation\n",
    "            beer = str(\"Beer \" + your_beer) #concantonates variable into a usuable key\n",
    "            return beer              #returns the local-variable 'beer' which will be used as a key\n",
    "    except ValueError:              #excepts non-integers\n",
    "        print(\"Please type the integer that corresponds with the beer you'd like to look up.\")\n"
   ]
  },
  {
   "cell_type": "code",
   "execution_count": 3,
   "metadata": {},
   "outputs": [],
   "source": [
    "def display_map(carries_beer):\n",
    "    Syracuse = (43.0481,-76.1474) #location of interest\n",
    "    colors = ['red', 'blue', 'green', 'orange', 'darkred', 'darkblue', 'darkgreen',\n",
    "                'gray', 'black',] #colors were taken from help(folium.Icon), gave a couple but thought dark colors would be best\n",
    "    map = folium.Map(location=Syracuse, zoom_start=11) #map is being assign here and we are utilizing folium, location variable, and a view of 11.\n",
    "    for row in carries_beer.to_records():      #definite loop to iterate over carries_beer variable\n",
    "        pos = (row['Lat'],row['Long'])    #desired location\n",
    "        message = \"%s, %s, Last Stocked: %s\" % (row['Store Name'],row['Address'], row['Last Stocked'])\n",
    "        #message displayed on pop up on map view. will give these details.\n",
    "        marker = folium.Marker(location=pos, \n",
    "                        popup=message,\n",
    "                        icon=folium.Icon(color = random.choice(colors), icon='beer', prefix='fa'))\n",
    "        #assigning variable to marker, using location and coordinates. pop up message will display details. icon was used from font awesome. prefix is important.\n",
    "        map.add_child(marker)\n",
    "    display(map)"
   ]
  },
  {
   "cell_type": "markdown",
   "metadata": {},
   "source": [
    "The following is for basic demonstration of the code."
   ]
  },
  {
   "cell_type": "code",
   "execution_count": null,
   "metadata": {},
   "outputs": [],
   "source": [
    "beer = beer_select() #calls function to select the beer and returns beer into global-variable\n",
    "try:\n",
    "    carries_beer = store_data [ store_data[beer] == True]   #selects from the list, only the stores that carry the selection\n",
    "    display_map(carries_beer)\n",
    "except ValueError:  #further excepts non-keys and builds on the except-error from \"beer_select()\". Required to except some errors that weren't covered. \n",
    "    print(\"You have selected an invalid number.\")"
   ]
  },
  {
   "cell_type": "markdown",
   "metadata": {},
   "source": [
    "The following is code that we would use with an infinite-loop. However, the results run in a series and don't wipe previous look-ups."
   ]
  },
  {
   "cell_type": "code",
   "execution_count": 4,
   "metadata": {},
   "outputs": [
    {
     "name": "stdout",
     "output_type": "stream",
     "text": [
      "0 Green IPA\n",
      "1 Blue Double IPA\n",
      "2 Red Lager\n",
      "3 Pink Lager Lite\n",
      "4 Yellow Whitbier\n",
      "5 White Pilsner\n",
      "6 Brown Ale\n",
      "7 Black Porter\n",
      "8 Violet Bock\n",
      "9 Golden Steam\n",
      "Input the beer's number that you'd like to look up or hit 'Enter' to quit: 4\n"
     ]
    },
    {
     "data": {
      "text/html": [
       "<div style=\"width:100%;\"><div style=\"position:relative;width:100%;height:0;padding-bottom:60%;\"><iframe src=\"data:text/html;charset=utf-8;base64,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\" style=\"position:absolute;width:100%;height:100%;left:0;top:0;border:none !important;\" allowfullscreen webkitallowfullscreen mozallowfullscreen></iframe></div></div>"
      ],
      "text/plain": [
       "<folium.folium.Map at 0x246ce406390>"
      ]
     },
     "metadata": {},
     "output_type": "display_data"
    },
    {
     "name": "stdout",
     "output_type": "stream",
     "text": [
      "0 Green IPA\n",
      "1 Blue Double IPA\n",
      "2 Red Lager\n",
      "3 Pink Lager Lite\n",
      "4 Yellow Whitbier\n",
      "5 White Pilsner\n",
      "6 Brown Ale\n",
      "7 Black Porter\n",
      "8 Violet Bock\n",
      "9 Golden Steam\n",
      "Input the beer's number that you'd like to look up or hit 'Enter' to quit: \n",
      "Please type the integer that corresponds with the beer you'd like to look up.\n",
      "You have quit this program.\n"
     ]
    }
   ],
   "source": [
    "errors = 0\n",
    "counter = \"0\"   #string could be anything other than ''\n",
    "\n",
    "while counter != \"\":\n",
    "    if errors == 3:   #warning of the impending sentinel\n",
    "        print(\"You're really bad at this. You're either drunk and don't need this program; or, you should take a break.\")\n",
    "    elif errors == 5:  #sentinel for too many errors\n",
    "        print(\"I'm going to assume you're very drunk and do you a favor: This program is exiting.\")\n",
    "        break\n",
    "    beer = beer_select() #calls function to select the beer and returns beer into global-variable\n",
    "    if beer == None:   #when the variable \"beer\" has a value of \"None\", it breaks the loop.\n",
    "        counter = ''   #sets the exit-condition of the infinite-loop\n",
    "        print(\"You have quit this program.\")\n",
    "        break\n",
    "    try:\n",
    "        carries_beer = store_data [ store_data[beer] == True]   #selects from the list, only the stores that carry the selection\n",
    "        display_map(carries_beer)\n",
    "    except ValueError:  #further excepts non-keys and builds on the except-error from \"beer_select()\". Required to except some errors that weren't covered. \n",
    "        print(\"You have selected an invalid number.\")\n",
    "        errors = errors + 1   #starts a counter for errors, which leads to a sentinel for the loop."
   ]
  },
  {
   "cell_type": "code",
   "execution_count": null,
   "metadata": {},
   "outputs": [],
   "source": [
    "\n",
    "\n",
    "\n",
    "\n",
    "\n",
    "\n",
    "\n",
    "\n",
    "\n",
    "\n",
    "\n",
    "\n",
    "\n",
    "\n",
    "\n",
    "\n",
    "\n",
    "\n",
    "\n",
    "\n",
    "\n",
    "\n",
    "\n",
    "\n",
    "\n",
    "\n",
    "\n",
    "\n",
    "\n",
    "\n",
    "\n",
    "\n",
    "\n",
    "\n",
    "\n"
   ]
  },
  {
   "cell_type": "code",
   "execution_count": null,
   "metadata": {},
   "outputs": [],
   "source": []
  }
 ],
 "metadata": {
  "kernelspec": {
   "display_name": "Python 3",
   "language": "python",
   "name": "python3"
  },
  "language_info": {
   "codemirror_mode": {
    "name": "ipython",
    "version": 3
   },
   "file_extension": ".py",
   "mimetype": "text/x-python",
   "name": "python",
   "nbconvert_exporter": "python",
   "pygments_lexer": "ipython3",
   "version": "3.6.6"
  }
 },
 "nbformat": 4,
 "nbformat_minor": 2
}
