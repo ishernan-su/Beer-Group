{
 "cells": [
  {
   "cell_type": "code",
   "execution_count": 1,
   "metadata": {},
   "outputs": [],
   "source": [
    "#imports the modules we need\n",
    "import pandas as pd \n",
    "import warnings     \n",
    "warnings.filterwarnings('ignore')"
   ]
  },
  {
   "cell_type": "code",
   "execution_count": 2,
   "metadata": {},
   "outputs": [],
   "source": [
    "#read the data into pandas\n",
    "beer_data = pd.read_csv(\"Beers.csv\")\n",
    "store_data = pd.read_csv(\"Stores.csv\")"
   ]
  },
  {
   "cell_type": "code",
   "execution_count": 11,
   "metadata": {},
   "outputs": [
    {
     "name": "stdout",
     "output_type": "stream",
     "text": [
      "0 Green IPA\n",
      "1 Blue Double IPA\n",
      "2 Red Lager\n",
      "3 Pink Lager Lite\n",
      "4 Yellow Whitbier\n",
      "5 White Pilsner\n",
      "6 Brown Ale\n",
      "7 Black Porter\n",
      "8 Violet Bock\n",
      "9 Golden Steam\n",
      "Input the beer's number that you'd like to look up: 9\n"
     ]
    }
   ],
   "source": [
    "for index, row in beer_data.iterrows():          #iterates rows in the DataFrame \n",
    "    print(row['Series'], row['Beer Name'])\n",
    "    \n",
    "your_beer = int(input(\"Input the beer's number that you'd like to look up: \"))\n",
    "\n"
   ]
  },
  {
   "cell_type": "code",
   "execution_count": 12,
   "metadata": {},
   "outputs": [
    {
     "data": {
      "text/plain": [
       "9"
      ]
     },
     "execution_count": 12,
     "metadata": {},
     "output_type": "execute_result"
    }
   ],
   "source": [
    "your_beer"
   ]
  },
  {
   "cell_type": "code",
   "execution_count": 8,
   "metadata": {},
   "outputs": [],
   "source": [
    "#function to get stores that carry the beer\n",
    "carries_beer = store_data [ store_data['Beer 6'] == True]"
   ]
  },
  {
   "cell_type": "code",
   "execution_count": 10,
   "metadata": {},
   "outputs": [
    {
     "name": "stdout",
     "output_type": "stream",
     "text": [
      "Your beer is located at Wegman's, 3325 W Genesee St, Syracuse, NY 13219 which is located at 43.047 latitude and -76.227 longitude.\n",
      "Your beer is located at Sunoco, 1000 W Genesee St, Syracuse, NY 13204 which is located at 43.054 latitude and -76.171 longitude.\n",
      "Your beer is located at Nichol's Supermarket, 327 1st St, Liverpool, NY 13088 which is located at 43.402 latitude and -76.208 longitude.\n",
      "Your beer is located at Wegman's, 6789 E Genesee St, Fayetteville, NY 13066 which is located at 43.033 latitude and -76.053 longitude.\n",
      "Your beer is located at Wegman's, 4722 Onondaga Blvd, Syracuse, NY 13219 which is located at 43.031 latitude and -76.192 longitude.\n",
      "Your beer is located at Tops Market, 700 1st N St, Syracuse, NY 13208 which is located at 43.069 latitude and -76.149 longitude.\n",
      "Your beer is located at Alamo's Food Market, 128 Walton St, Syracuse, NY 13202 which is located at 43.048 latitude and -76.155 longitude.\n"
     ]
    }
   ],
   "source": [
    "#iterate rows to populate folium\n",
    "for index, row in carries_beer.iterrows():\n",
    "    store = row['Store Name']\n",
    "    address = row['Address']\n",
    "    lat = row['Lat']\n",
    "    long = row['Long']\n",
    "    print(\"Your beer is located at %s, %s which is located at %.3f latitude and %.3f longitude.\"  % (store, address, lat, long))\n",
    "    #populate follium markers     "
   ]
  },
  {
   "cell_type": "code",
   "execution_count": null,
   "metadata": {},
   "outputs": [],
   "source": []
  }
 ],
 "metadata": {
  "kernelspec": {
   "display_name": "Python 3",
   "language": "python",
   "name": "python3"
  },
  "language_info": {
   "codemirror_mode": {
    "name": "ipython",
    "version": 3
   },
   "file_extension": ".py",
   "mimetype": "text/x-python",
   "name": "python",
   "nbconvert_exporter": "python",
   "pygments_lexer": "ipython3",
   "version": "3.6.6"
  }
 },
 "nbformat": 4,
 "nbformat_minor": 2
}
