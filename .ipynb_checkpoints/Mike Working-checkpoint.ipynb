{
 "cells": [
  {
   "cell_type": "code",
   "execution_count": 1,
   "metadata": {},
   "outputs": [],
   "source": [
    "#imports the modules we need\n",
    "import pandas as pd \n",
    "import folium\n",
    "import warnings     \n",
    "warnings.filterwarnings('ignore')"
   ]
  },
  {
   "cell_type": "code",
   "execution_count": 2,
   "metadata": {},
   "outputs": [],
   "source": [
    "#read the data into pandas\n",
    "beer_data = pd.read_csv(\"Beers.csv\")\n",
    "store_data = pd.read_csv(\"Stores.csv\")"
   ]
  },
  {
   "cell_type": "code",
   "execution_count": 3,
   "metadata": {},
   "outputs": [
    {
     "name": "stdout",
     "output_type": "stream",
     "text": [
      "0 Green IPA\n",
      "1 Blue Double IPA\n",
      "2 Red Lager\n",
      "3 Pink Lager Lite\n",
      "4 Yellow Whitbier\n",
      "5 White Pilsner\n",
      "6 Brown Ale\n",
      "7 Black Porter\n",
      "8 Violet Bock\n",
      "9 Golden Steam\n",
      "Input the beer's number that you'd like to look up: 5\n"
     ]
    }
   ],
   "source": [
    "for index, row in beer_data.iterrows():          #iterates rows in the DataFrame \n",
    "    print(row['Series'], row['Beer Name'])\n",
    "    \n",
    "your_beer = int(input(\"Input the beer's number that you'd like to look up: \"))\n",
    "\n"
   ]
  },
  {
   "cell_type": "code",
   "execution_count": null,
   "metadata": {},
   "outputs": [],
   "source": [
    "#write if/elif/else conditional here"
   ]
  },
  {
   "cell_type": "code",
   "execution_count": 4,
   "metadata": {},
   "outputs": [
    {
     "data": {
      "text/plain": [
       "5"
      ]
     },
     "execution_count": 4,
     "metadata": {},
     "output_type": "execute_result"
    }
   ],
   "source": [
    "your_beer"
   ]
  },
  {
   "cell_type": "code",
   "execution_count": 17,
   "metadata": {},
   "outputs": [],
   "source": [
    "#function to get stores that carry the beer\n",
    "carries_beer = store_data [ store_data['Beer 5'] == True]"
   ]
  },
  {
   "cell_type": "code",
   "execution_count": 8,
   "metadata": {},
   "outputs": [
    {
     "name": "stdout",
     "output_type": "stream",
     "text": [
      "Your beer is located at Wegman's, 3325 W Genesee St, Syracuse, NY 13219 which is located at 43.047 latitude and -76.227 longitude.\n",
      "Your beer is located at Sunoco, 2101 W Genesee St, Syracuse, NY 13219 which is located at 43.048 latitude and -76.197 longitude.\n",
      "Your beer is located at Nichol's Supermarket, 327 1st St, Liverpool, NY 13088 which is located at 43.402 latitude and -76.208 longitude.\n",
      "Your beer is located at Wegman's, 6789 E Genesee St, Fayetteville, NY 13066 which is located at 43.033 latitude and -76.053 longitude.\n",
      "Your beer is located at Wegman's, 4722 Onondaga Blvd, Syracuse, NY 13219 which is located at 43.031 latitude and -76.192 longitude.\n",
      "Your beer is located at Tops Market, 700 1st N St, Syracuse, NY 13208 which is located at 43.069 latitude and -76.149 longitude.\n",
      "Your beer is located at Downtown Grocery, 355 S Warren St, Syracuse, NY 13202 which is located at 43.047 latitude and -76.151 longitude.\n"
     ]
    }
   ],
   "source": [
    "#iterate rows to populate folium\n",
    "for index, row in carries_beer.iterrows():\n",
    "    store = row['Store Name']\n",
    "    address = row['Address']\n",
    "    lat = row['Lat']\n",
    "    long = row['Long']\n",
    "    print(\"Your beer is located at %s, %s which is located at %.3f latitude and %.3f longitude.\"  % (store, address, lat, long))\n",
    "    #populate follium markers     "
   ]
  },
  {
   "cell_type": "code",
   "execution_count": 20,
   "metadata": {
    "scrolled": true
   },
   "outputs": [
    {
     "data": {
      "text/html": [
       "<div style=\"width:100%;\"><div style=\"position:relative;width:100%;height:0;padding-bottom:60%;\"><iframe src=\"data:text/html;charset=utf-8;base64,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\" style=\"position:absolute;width:100%;height:100%;left:0;top:0;border:none !important;\" allowfullscreen webkitallowfullscreen mozallowfullscreen></iframe></div></div>"
      ],
      "text/plain": [
       "<folium.folium.Map at 0x1c510c8c128>"
      ]
     },
     "execution_count": 20,
     "metadata": {},
     "output_type": "execute_result"
    }
   ],
   "source": [
    "Syracuse = (43.059,-76.147)\n",
    "map = folium.Map(location=Syracuse, zoom_start=11)\n",
    "for row in carries_beer.to_records():\n",
    "    pos = (row['Lat'],row['Long'])\n",
    "    message = \"%s, %s,  %s, %s\" % (row['Store Name'],row['Address'], row['Lat'], row['Long'])\n",
    "    marker = folium.Marker(location=pos, \n",
    "                    popup=message\n",
    "                          )\n",
    "    map.add_child(marker)\n",
    "map"
   ]
  },
  {
   "cell_type": "code",
   "execution_count": null,
   "metadata": {},
   "outputs": [],
   "source": [
    "help(map)"
   ]
  },
  {
   "cell_type": "code",
   "execution_count": 15,
   "metadata": {},
   "outputs": [
    {
     "data": {
      "text/html": [
       "<div>\n",
       "<style scoped>\n",
       "    .dataframe tbody tr th:only-of-type {\n",
       "        vertical-align: middle;\n",
       "    }\n",
       "\n",
       "    .dataframe tbody tr th {\n",
       "        vertical-align: top;\n",
       "    }\n",
       "\n",
       "    .dataframe thead th {\n",
       "        text-align: right;\n",
       "    }\n",
       "</style>\n",
       "<table border=\"1\" class=\"dataframe\">\n",
       "  <thead>\n",
       "    <tr style=\"text-align: right;\">\n",
       "      <th></th>\n",
       "      <th>Series</th>\n",
       "      <th>Store Name</th>\n",
       "      <th>Address</th>\n",
       "      <th>Lat</th>\n",
       "      <th>Long</th>\n",
       "      <th>Last Stocked</th>\n",
       "      <th>Beer 0</th>\n",
       "      <th>Beer 1</th>\n",
       "      <th>Beer 2</th>\n",
       "      <th>Beer 3</th>\n",
       "      <th>Beer 4</th>\n",
       "      <th>Beer 5</th>\n",
       "      <th>Beer 6</th>\n",
       "      <th>Beer 7</th>\n",
       "      <th>Beer 8</th>\n",
       "      <th>Beer 9</th>\n",
       "    </tr>\n",
       "  </thead>\n",
       "  <tbody>\n",
       "    <tr>\n",
       "      <th>0</th>\n",
       "      <td>0</td>\n",
       "      <td>Wegman's</td>\n",
       "      <td>3325 W Genesee St, Syracuse, NY 13219</td>\n",
       "      <td>43.047</td>\n",
       "      <td>-76.227</td>\n",
       "      <td>5/1/2019</td>\n",
       "      <td>True</td>\n",
       "      <td>True</td>\n",
       "      <td>True</td>\n",
       "      <td>True</td>\n",
       "      <td>True</td>\n",
       "      <td>True</td>\n",
       "      <td>True</td>\n",
       "      <td>True</td>\n",
       "      <td>True</td>\n",
       "      <td>True</td>\n",
       "    </tr>\n",
       "    <tr>\n",
       "      <th>1</th>\n",
       "      <td>1</td>\n",
       "      <td>Sunoco</td>\n",
       "      <td>2101 W Genesee St, Syracuse, NY 13219</td>\n",
       "      <td>43.048</td>\n",
       "      <td>-76.197</td>\n",
       "      <td>5/3/2019</td>\n",
       "      <td>True</td>\n",
       "      <td>True</td>\n",
       "      <td>False</td>\n",
       "      <td>False</td>\n",
       "      <td>True</td>\n",
       "      <td>True</td>\n",
       "      <td>False</td>\n",
       "      <td>False</td>\n",
       "      <td>False</td>\n",
       "      <td>False</td>\n",
       "    </tr>\n",
       "    <tr>\n",
       "      <th>2</th>\n",
       "      <td>2</td>\n",
       "      <td>Sunoco</td>\n",
       "      <td>1000 W Genesee St, Syracuse, NY 13204</td>\n",
       "      <td>43.054</td>\n",
       "      <td>-76.171</td>\n",
       "      <td>4/26/2019</td>\n",
       "      <td>True</td>\n",
       "      <td>True</td>\n",
       "      <td>False</td>\n",
       "      <td>True</td>\n",
       "      <td>False</td>\n",
       "      <td>False</td>\n",
       "      <td>True</td>\n",
       "      <td>True</td>\n",
       "      <td>False</td>\n",
       "      <td>False</td>\n",
       "    </tr>\n",
       "    <tr>\n",
       "      <th>3</th>\n",
       "      <td>3</td>\n",
       "      <td>Nichol's Supermarket</td>\n",
       "      <td>327 1st St, Liverpool, NY 13088</td>\n",
       "      <td>43.402</td>\n",
       "      <td>-76.208</td>\n",
       "      <td>5/1/2019</td>\n",
       "      <td>True</td>\n",
       "      <td>True</td>\n",
       "      <td>True</td>\n",
       "      <td>False</td>\n",
       "      <td>True</td>\n",
       "      <td>True</td>\n",
       "      <td>True</td>\n",
       "      <td>True</td>\n",
       "      <td>True</td>\n",
       "      <td>False</td>\n",
       "    </tr>\n",
       "    <tr>\n",
       "      <th>4</th>\n",
       "      <td>4</td>\n",
       "      <td>Wegman's</td>\n",
       "      <td>6789 E Genesee St, Fayetteville, NY 13066</td>\n",
       "      <td>43.033</td>\n",
       "      <td>-76.053</td>\n",
       "      <td>4/30/2019</td>\n",
       "      <td>True</td>\n",
       "      <td>True</td>\n",
       "      <td>True</td>\n",
       "      <td>True</td>\n",
       "      <td>True</td>\n",
       "      <td>True</td>\n",
       "      <td>True</td>\n",
       "      <td>True</td>\n",
       "      <td>True</td>\n",
       "      <td>True</td>\n",
       "    </tr>\n",
       "    <tr>\n",
       "      <th>5</th>\n",
       "      <td>5</td>\n",
       "      <td>Wegman's</td>\n",
       "      <td>4722 Onondaga Blvd, Syracuse, NY 13219</td>\n",
       "      <td>43.031</td>\n",
       "      <td>-76.192</td>\n",
       "      <td>4/30/2019</td>\n",
       "      <td>True</td>\n",
       "      <td>True</td>\n",
       "      <td>True</td>\n",
       "      <td>True</td>\n",
       "      <td>True</td>\n",
       "      <td>True</td>\n",
       "      <td>True</td>\n",
       "      <td>True</td>\n",
       "      <td>True</td>\n",
       "      <td>True</td>\n",
       "    </tr>\n",
       "    <tr>\n",
       "      <th>6</th>\n",
       "      <td>6</td>\n",
       "      <td>Tops Market</td>\n",
       "      <td>700 1st N St, Syracuse, NY 13208</td>\n",
       "      <td>43.069</td>\n",
       "      <td>-76.149</td>\n",
       "      <td>4/29/2019</td>\n",
       "      <td>False</td>\n",
       "      <td>False</td>\n",
       "      <td>False</td>\n",
       "      <td>True</td>\n",
       "      <td>True</td>\n",
       "      <td>True</td>\n",
       "      <td>True</td>\n",
       "      <td>False</td>\n",
       "      <td>False</td>\n",
       "      <td>False</td>\n",
       "    </tr>\n",
       "    <tr>\n",
       "      <th>7</th>\n",
       "      <td>7</td>\n",
       "      <td>Alamo's Food Market</td>\n",
       "      <td>128 Walton St, Syracuse, NY 13202</td>\n",
       "      <td>43.048</td>\n",
       "      <td>-76.155</td>\n",
       "      <td>4/27/2019</td>\n",
       "      <td>False</td>\n",
       "      <td>False</td>\n",
       "      <td>False</td>\n",
       "      <td>True</td>\n",
       "      <td>False</td>\n",
       "      <td>False</td>\n",
       "      <td>True</td>\n",
       "      <td>True</td>\n",
       "      <td>False</td>\n",
       "      <td>True</td>\n",
       "    </tr>\n",
       "    <tr>\n",
       "      <th>8</th>\n",
       "      <td>8</td>\n",
       "      <td>Downtown Grocery</td>\n",
       "      <td>355 S Warren St, Syracuse, NY 13202</td>\n",
       "      <td>43.047</td>\n",
       "      <td>-76.151</td>\n",
       "      <td>4/27/2019</td>\n",
       "      <td>False</td>\n",
       "      <td>False</td>\n",
       "      <td>False</td>\n",
       "      <td>False</td>\n",
       "      <td>True</td>\n",
       "      <td>True</td>\n",
       "      <td>False</td>\n",
       "      <td>False</td>\n",
       "      <td>False</td>\n",
       "      <td>False</td>\n",
       "    </tr>\n",
       "    <tr>\n",
       "      <th>9</th>\n",
       "      <td>9</td>\n",
       "      <td>Walgreens</td>\n",
       "      <td>2329 James St, Syracuse, NY 13206</td>\n",
       "      <td>43.069</td>\n",
       "      <td>-76.114</td>\n",
       "      <td>5/1/2019</td>\n",
       "      <td>True</td>\n",
       "      <td>True</td>\n",
       "      <td>True</td>\n",
       "      <td>True</td>\n",
       "      <td>False</td>\n",
       "      <td>False</td>\n",
       "      <td>False</td>\n",
       "      <td>False</td>\n",
       "      <td>False</td>\n",
       "      <td>False</td>\n",
       "    </tr>\n",
       "  </tbody>\n",
       "</table>\n",
       "</div>"
      ],
      "text/plain": [
       "   Series            Store Name                                    Address  \\\n",
       "0       0              Wegman's      3325 W Genesee St, Syracuse, NY 13219   \n",
       "1       1                Sunoco      2101 W Genesee St, Syracuse, NY 13219   \n",
       "2       2                Sunoco      1000 W Genesee St, Syracuse, NY 13204   \n",
       "3       3  Nichol's Supermarket            327 1st St, Liverpool, NY 13088   \n",
       "4       4              Wegman's  6789 E Genesee St, Fayetteville, NY 13066   \n",
       "5       5              Wegman's     4722 Onondaga Blvd, Syracuse, NY 13219   \n",
       "6       6           Tops Market           700 1st N St, Syracuse, NY 13208   \n",
       "7       7   Alamo's Food Market          128 Walton St, Syracuse, NY 13202   \n",
       "8       8      Downtown Grocery        355 S Warren St, Syracuse, NY 13202   \n",
       "9       9             Walgreens          2329 James St, Syracuse, NY 13206   \n",
       "\n",
       "      Lat    Long Last Stocked  Beer 0  Beer 1   Beer 2  Beer 3  Beer 4  \\\n",
       "0  43.047 -76.227     5/1/2019    True     True    True    True    True   \n",
       "1  43.048 -76.197     5/3/2019    True     True   False   False    True   \n",
       "2  43.054 -76.171    4/26/2019    True     True   False    True   False   \n",
       "3  43.402 -76.208     5/1/2019    True     True    True   False    True   \n",
       "4  43.033 -76.053    4/30/2019    True     True    True    True    True   \n",
       "5  43.031 -76.192    4/30/2019    True     True    True    True    True   \n",
       "6  43.069 -76.149    4/29/2019   False    False   False    True    True   \n",
       "7  43.048 -76.155    4/27/2019   False    False   False    True   False   \n",
       "8  43.047 -76.151    4/27/2019   False    False   False   False    True   \n",
       "9  43.069 -76.114     5/1/2019    True     True    True    True   False   \n",
       "\n",
       "   Beer 5  Beer 6  Beer 7  Beer 8  Beer 9  \n",
       "0    True    True    True    True    True  \n",
       "1    True   False   False   False   False  \n",
       "2   False    True    True   False   False  \n",
       "3    True    True    True    True   False  \n",
       "4    True    True    True    True    True  \n",
       "5    True    True    True    True    True  \n",
       "6    True    True   False   False   False  \n",
       "7   False    True    True   False    True  \n",
       "8    True   False   False   False   False  \n",
       "9   False   False   False   False   False  "
      ]
     },
     "execution_count": 15,
     "metadata": {},
     "output_type": "execute_result"
    }
   ],
   "source": [
    "store_data\n"
   ]
  },
  {
   "cell_type": "code",
   "execution_count": null,
   "metadata": {},
   "outputs": [],
   "source": []
  }
 ],
 "metadata": {
  "kernelspec": {
   "display_name": "Python 3",
   "language": "python",
   "name": "python3"
  },
  "language_info": {
   "codemirror_mode": {
    "name": "ipython",
    "version": 3
   },
   "file_extension": ".py",
   "mimetype": "text/x-python",
   "name": "python",
   "nbconvert_exporter": "python",
   "pygments_lexer": "ipython3",
   "version": "3.6.6"
  }
 },
 "nbformat": 4,
 "nbformat_minor": 2
}
