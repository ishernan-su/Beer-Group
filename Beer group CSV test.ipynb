{
 "cells": [
  {
   "cell_type": "code",
   "execution_count": 2,
   "metadata": {},
   "outputs": [],
   "source": [
    "import matplotlib\n",
    "import matplotlib.pyplot as plt\n",
    "import plotly \n",
    "import plotly.plotly as py     \n",
    "import plotly.graph_objs as go  \n",
    "import cufflinks as cf\n",
    "import pandas as pd\n",
    "import folium\n",
    "import warnings\n",
    "warnings.filterwarnings('ignore')"
   ]
  },
  {
   "cell_type": "code",
   "execution_count": 79,
   "metadata": {},
   "outputs": [],
   "source": [
    "beers = pd.read_csv('Beers.csv')\n"
   ]
  },
  {
   "cell_type": "code",
   "execution_count": 80,
   "metadata": {},
   "outputs": [
    {
     "data": {
      "text/plain": [
       "Yellow Whitbier    1\n",
       "Blue Double IPA    1\n",
       "Red Lager          1\n",
       "White Pilsner      1\n",
       "Pink Lager Lite    1\n",
       "Violet Bock        1\n",
       "Black Porter       1\n",
       "Golden Steam       1\n",
       "Green IPA          1\n",
       "Brown Ale          1\n",
       "Name: Beer Name, dtype: int64"
      ]
     },
     "execution_count": 80,
     "metadata": {},
     "output_type": "execute_result"
    }
   ],
   "source": [
    "beer_name= beers['Beer Name'].value_counts()\n",
    "beer_name\n"
   ]
  },
  {
   "cell_type": "code",
   "execution_count": 81,
   "metadata": {},
   "outputs": [
    {
     "data": {
      "text/plain": [
       "<matplotlib.axes._subplots.AxesSubplot at 0x11ca1fb00>"
      ]
     },
     "execution_count": 81,
     "metadata": {},
     "output_type": "execute_result"
    },
    {
     "data": {
      "image/png": "[encoded data removed]",
      "text/plain": [
       "<Figure size 432x288 with 1 Axes>"
      ]
     },
     "metadata": {},
     "output_type": "display_data"
    }
   ],
   "source": [
    "beer_type = beers['Beer Type'].value_counts()\n",
    "beer_type\n",
    "beer_type.plot.pie( y = 'Counts')"
   ]
  },
  {
   "cell_type": "code",
   "execution_count": 82,
   "metadata": {},
   "outputs": [
    {
     "data": {
      "text/plain": [
       "Great for mowing the lawn     1\n",
       "Californian favorite          1\n",
       "More DPS! MOAR HOPS!          1\n",
       "Goes well with beef           1\n",
       "Drink before drinking beer    1\n",
       "Blue-collar beer              1\n",
       "A wee bit less                1\n",
       "NE-style IPA                  1\n",
       "A fine Irish lager            1\n",
       "It will get your goat         1\n",
       "Name: Description, dtype: int64"
      ]
     },
     "execution_count": 82,
     "metadata": {},
     "output_type": "execute_result"
    }
   ],
   "source": [
    "beer_description = beers['Description'].value_counts()\n",
    "beer_description\n"
   ]
  },
  {
   "cell_type": "code",
   "execution_count": 83,
   "metadata": {},
   "outputs": [
    {
     "data": {
      "text/plain": [
       "4.1    2\n",
       "4.8    1\n",
       "4.6    1\n",
       "6.7    1\n",
       "8.1    1\n",
       "3.8    1\n",
       "6.4    1\n",
       "5.7    1\n",
       "4.5    1\n",
       "Name: ABV, dtype: int64"
      ]
     },
     "execution_count": 83,
     "metadata": {},
     "output_type": "execute_result"
    }
   ],
   "source": [
    "beer_abv = beers['ABV'].value_counts()\n",
    "beer_abv\n"
   ]
  },
  {
   "cell_type": "code",
   "execution_count": 84,
   "metadata": {
    "scrolled": true
   },
   "outputs": [
    {
     "data": {
      "text/html": [
       "<div>\n",
       "<style scoped>\n",
       "    .dataframe tbody tr th:only-of-type {\n",
       "        vertical-align: middle;\n",
       "    }\n",
       "\n",
       "    .dataframe tbody tr th {\n",
       "        vertical-align: top;\n",
       "    }\n",
       "\n",
       "    .dataframe thead th {\n",
       "        text-align: right;\n",
       "    }\n",
       "</style>\n",
       "<table border=\"1\" class=\"dataframe\">\n",
       "  <thead>\n",
       "    <tr style=\"text-align: right;\">\n",
       "      <th></th>\n",
       "      <th>Series</th>\n",
       "      <th>Beer Name</th>\n",
       "      <th>Beer Type</th>\n",
       "      <th>Description</th>\n",
       "      <th>ABV</th>\n",
       "    </tr>\n",
       "  </thead>\n",
       "  <tbody>\n",
       "    <tr>\n",
       "      <th>0</th>\n",
       "      <td>0</td>\n",
       "      <td>Green IPA</td>\n",
       "      <td>Pale Ale</td>\n",
       "      <td>NE-style IPA</td>\n",
       "      <td>6.7</td>\n",
       "    </tr>\n",
       "    <tr>\n",
       "      <th>1</th>\n",
       "      <td>1</td>\n",
       "      <td>Blue Double IPA</td>\n",
       "      <td>Pale Ale</td>\n",
       "      <td>More DPS! MOAR HOPS!</td>\n",
       "      <td>8.1</td>\n",
       "    </tr>\n",
       "    <tr>\n",
       "      <th>2</th>\n",
       "      <td>2</td>\n",
       "      <td>Red Lager</td>\n",
       "      <td>Lager</td>\n",
       "      <td>A fine Irish lager</td>\n",
       "      <td>4.5</td>\n",
       "    </tr>\n",
       "    <tr>\n",
       "      <th>3</th>\n",
       "      <td>3</td>\n",
       "      <td>Pink Lager Lite</td>\n",
       "      <td>Lager</td>\n",
       "      <td>A wee bit less</td>\n",
       "      <td>4.1</td>\n",
       "    </tr>\n",
       "    <tr>\n",
       "      <th>4</th>\n",
       "      <td>4</td>\n",
       "      <td>Yellow Whitbier</td>\n",
       "      <td>Wheat Beer</td>\n",
       "      <td>Great for mowing the lawn</td>\n",
       "      <td>3.8</td>\n",
       "    </tr>\n",
       "    <tr>\n",
       "      <th>5</th>\n",
       "      <td>5</td>\n",
       "      <td>White Pilsner</td>\n",
       "      <td>Lager</td>\n",
       "      <td>Blue-collar beer</td>\n",
       "      <td>4.6</td>\n",
       "    </tr>\n",
       "    <tr>\n",
       "      <th>6</th>\n",
       "      <td>6</td>\n",
       "      <td>Brown Ale</td>\n",
       "      <td>Ale</td>\n",
       "      <td>Goes well with beef</td>\n",
       "      <td>5.7</td>\n",
       "    </tr>\n",
       "    <tr>\n",
       "      <th>7</th>\n",
       "      <td>7</td>\n",
       "      <td>Black Porter</td>\n",
       "      <td>Stout</td>\n",
       "      <td>Drink before drinking beer</td>\n",
       "      <td>4.1</td>\n",
       "    </tr>\n",
       "    <tr>\n",
       "      <th>8</th>\n",
       "      <td>8</td>\n",
       "      <td>Violet Bock</td>\n",
       "      <td>Ale</td>\n",
       "      <td>It will get your goat</td>\n",
       "      <td>6.4</td>\n",
       "    </tr>\n",
       "    <tr>\n",
       "      <th>9</th>\n",
       "      <td>9</td>\n",
       "      <td>Golden Steam</td>\n",
       "      <td>Lager</td>\n",
       "      <td>Californian favorite</td>\n",
       "      <td>4.8</td>\n",
       "    </tr>\n",
       "  </tbody>\n",
       "</table>\n",
       "</div>"
      ],
      "text/plain": [
       "   Series        Beer Name   Beer Type                 Description  ABV\n",
       "0       0        Green IPA    Pale Ale                NE-style IPA  6.7\n",
       "1       1  Blue Double IPA    Pale Ale        More DPS! MOAR HOPS!  8.1\n",
       "2       2        Red Lager       Lager          A fine Irish lager  4.5\n",
       "3       3  Pink Lager Lite       Lager              A wee bit less  4.1\n",
       "4       4  Yellow Whitbier  Wheat Beer   Great for mowing the lawn  3.8\n",
       "5       5    White Pilsner       Lager            Blue-collar beer  4.6\n",
       "6       6        Brown Ale         Ale         Goes well with beef  5.7\n",
       "7       7     Black Porter       Stout  Drink before drinking beer  4.1\n",
       "8       8      Violet Bock         Ale       It will get your goat  6.4\n",
       "9       9     Golden Steam       Lager        Californian favorite  4.8"
      ]
     },
     "execution_count": 84,
     "metadata": {},
     "output_type": "execute_result"
    }
   ],
   "source": [
    "beers['Series']\n",
    "beers"
   ]
  },
  {
   "cell_type": "code",
   "execution_count": 100,
   "metadata": {},
   "outputs": [],
   "source": [
    "stores= pd.read_csv('Stores.csv')"
   ]
  },
  {
   "cell_type": "code",
   "execution_count": 86,
   "metadata": {},
   "outputs": [
    {
     "data": {
      "text/plain": [
       "Wegman's                3\n",
       "Sunoco                  2\n",
       "Downtown Grocery        1\n",
       "Nichol's Supermarket    1\n",
       "Tops Market             1\n",
       "Alamo's Food Market     1\n",
       "Walgreens               1\n",
       "Name: Store Name, dtype: int64"
      ]
     },
     "execution_count": 86,
     "metadata": {},
     "output_type": "execute_result"
    }
   ],
   "source": [
    "store_name= stores['Store Name'].value_counts()\n",
    "store_name"
   ]
  },
  {
   "cell_type": "code",
   "execution_count": 87,
   "metadata": {},
   "outputs": [
    {
     "data": {
      "text/plain": [
       "355 S Warren St, Syracuse, NY 13202          1\n",
       "6789 E Genesee St, Fayetteville, NY 13066    1\n",
       "2329 James St, Syracuse, NY 13206            1\n",
       "128 Walton St, Syracuse, NY 13202            1\n",
       "3325 W Genesee St, Syracuse, NY 13219        1\n",
       "2101 W Genesee St, Syracuse, NY 13219        1\n",
       "1000 W Genesee St, Syracuse, NY 13204        1\n",
       "700 1st N St, Syracuse, NY 13208             1\n",
       "4722 Onondaga Blvd, Syracuse, NY 13219       1\n",
       "327 1st St, Liverpool, NY 13088              1\n",
       "Name: Address, dtype: int64"
      ]
     },
     "execution_count": 87,
     "metadata": {},
     "output_type": "execute_result"
    }
   ],
   "source": [
    "store_address= stores['Address'].value_counts()\n",
    "store_address"
   ]
  },
  {
   "cell_type": "code",
   "execution_count": 88,
   "metadata": {
    "scrolled": false
   },
   "outputs": [
    {
     "data": {
      "text/plain": [
       "5/1/2019     3\n",
       "4/27/2019    2\n",
       "4/30/2019    2\n",
       "4/29/2019    1\n",
       "4/26/2019    1\n",
       "5/3/2019     1\n",
       "Name: Last Stocked, dtype: int64"
      ]
     },
     "execution_count": 88,
     "metadata": {},
     "output_type": "execute_result"
    }
   ],
   "source": [
    "store_stocked= stores['Last Stocked'].value_counts()\n",
    "store_stocked"
   ]
  },
  {
   "cell_type": "code",
   "execution_count": null,
   "metadata": {},
   "outputs": [],
   "source": []
  },
  {
   "cell_type": "code",
   "execution_count": 101,
   "metadata": {},
   "outputs": [
    {
     "data": {
      "text/html": [
       "<div>\n",
       "<style scoped>\n",
       "    .dataframe tbody tr th:only-of-type {\n",
       "        vertical-align: middle;\n",
       "    }\n",
       "\n",
       "    .dataframe tbody tr th {\n",
       "        vertical-align: top;\n",
       "    }\n",
       "\n",
       "    .dataframe thead th {\n",
       "        text-align: right;\n",
       "    }\n",
       "</style>\n",
       "<table border=\"1\" class=\"dataframe\">\n",
       "  <thead>\n",
       "    <tr style=\"text-align: right;\">\n",
       "      <th></th>\n",
       "      <th>Series</th>\n",
       "      <th>Store Name</th>\n",
       "      <th>Address</th>\n",
       "      <th>Lat</th>\n",
       "      <th>Long</th>\n",
       "      <th>Last Stocked</th>\n",
       "      <th>Beer 0</th>\n",
       "      <th>Beer 1</th>\n",
       "      <th>Beer 2</th>\n",
       "      <th>Beer 3</th>\n",
       "      <th>Beer 4</th>\n",
       "      <th>Beer 5</th>\n",
       "      <th>Beer 6</th>\n",
       "      <th>Beer 7</th>\n",
       "      <th>Beer 8</th>\n",
       "      <th>Beer 9</th>\n",
       "    </tr>\n",
       "  </thead>\n",
       "  <tbody>\n",
       "    <tr>\n",
       "      <th>0</th>\n",
       "      <td>0</td>\n",
       "      <td>Wegman's</td>\n",
       "      <td>3325 W Genesee St, Syracuse, NY 13219</td>\n",
       "      <td>43.047</td>\n",
       "      <td>-76.227</td>\n",
       "      <td>5/1/2019</td>\n",
       "      <td>True</td>\n",
       "      <td>True</td>\n",
       "      <td>True</td>\n",
       "      <td>True</td>\n",
       "      <td>True</td>\n",
       "      <td>True</td>\n",
       "      <td>True</td>\n",
       "      <td>True</td>\n",
       "      <td>True</td>\n",
       "      <td>True</td>\n",
       "    </tr>\n",
       "    <tr>\n",
       "      <th>1</th>\n",
       "      <td>1</td>\n",
       "      <td>Sunoco</td>\n",
       "      <td>2101 W Genesee St, Syracuse, NY 13219</td>\n",
       "      <td>43.048</td>\n",
       "      <td>-76.197</td>\n",
       "      <td>5/3/2019</td>\n",
       "      <td>True</td>\n",
       "      <td>True</td>\n",
       "      <td>False</td>\n",
       "      <td>False</td>\n",
       "      <td>True</td>\n",
       "      <td>True</td>\n",
       "      <td>False</td>\n",
       "      <td>False</td>\n",
       "      <td>False</td>\n",
       "      <td>False</td>\n",
       "    </tr>\n",
       "    <tr>\n",
       "      <th>2</th>\n",
       "      <td>2</td>\n",
       "      <td>Sunoco</td>\n",
       "      <td>1000 W Genesee St, Syracuse, NY 13204</td>\n",
       "      <td>43.054</td>\n",
       "      <td>-76.171</td>\n",
       "      <td>4/26/2019</td>\n",
       "      <td>True</td>\n",
       "      <td>True</td>\n",
       "      <td>False</td>\n",
       "      <td>True</td>\n",
       "      <td>False</td>\n",
       "      <td>False</td>\n",
       "      <td>True</td>\n",
       "      <td>True</td>\n",
       "      <td>False</td>\n",
       "      <td>False</td>\n",
       "    </tr>\n",
       "    <tr>\n",
       "      <th>3</th>\n",
       "      <td>3</td>\n",
       "      <td>Nichol's Supermarket</td>\n",
       "      <td>327 1st St, Liverpool, NY 13088</td>\n",
       "      <td>43.402</td>\n",
       "      <td>-76.208</td>\n",
       "      <td>5/1/2019</td>\n",
       "      <td>True</td>\n",
       "      <td>True</td>\n",
       "      <td>True</td>\n",
       "      <td>False</td>\n",
       "      <td>True</td>\n",
       "      <td>True</td>\n",
       "      <td>True</td>\n",
       "      <td>True</td>\n",
       "      <td>True</td>\n",
       "      <td>False</td>\n",
       "    </tr>\n",
       "    <tr>\n",
       "      <th>4</th>\n",
       "      <td>4</td>\n",
       "      <td>Wegman's</td>\n",
       "      <td>6789 E Genesee St, Fayetteville, NY 13066</td>\n",
       "      <td>43.033</td>\n",
       "      <td>-76.053</td>\n",
       "      <td>4/30/2019</td>\n",
       "      <td>True</td>\n",
       "      <td>True</td>\n",
       "      <td>True</td>\n",
       "      <td>True</td>\n",
       "      <td>True</td>\n",
       "      <td>True</td>\n",
       "      <td>True</td>\n",
       "      <td>True</td>\n",
       "      <td>True</td>\n",
       "      <td>True</td>\n",
       "    </tr>\n",
       "    <tr>\n",
       "      <th>5</th>\n",
       "      <td>5</td>\n",
       "      <td>Wegman's</td>\n",
       "      <td>4722 Onondaga Blvd, Syracuse, NY 13219</td>\n",
       "      <td>43.031</td>\n",
       "      <td>-76.192</td>\n",
       "      <td>4/30/2019</td>\n",
       "      <td>True</td>\n",
       "      <td>True</td>\n",
       "      <td>True</td>\n",
       "      <td>True</td>\n",
       "      <td>True</td>\n",
       "      <td>True</td>\n",
       "      <td>True</td>\n",
       "      <td>True</td>\n",
       "      <td>True</td>\n",
       "      <td>True</td>\n",
       "    </tr>\n",
       "    <tr>\n",
       "      <th>6</th>\n",
       "      <td>6</td>\n",
       "      <td>Tops Market</td>\n",
       "      <td>700 1st N St, Syracuse, NY 13208</td>\n",
       "      <td>43.069</td>\n",
       "      <td>-76.149</td>\n",
       "      <td>4/29/2019</td>\n",
       "      <td>False</td>\n",
       "      <td>False</td>\n",
       "      <td>False</td>\n",
       "      <td>True</td>\n",
       "      <td>True</td>\n",
       "      <td>True</td>\n",
       "      <td>True</td>\n",
       "      <td>False</td>\n",
       "      <td>False</td>\n",
       "      <td>False</td>\n",
       "    </tr>\n",
       "    <tr>\n",
       "      <th>7</th>\n",
       "      <td>7</td>\n",
       "      <td>Alamo's Food Market</td>\n",
       "      <td>128 Walton St, Syracuse, NY 13202</td>\n",
       "      <td>43.048</td>\n",
       "      <td>-76.155</td>\n",
       "      <td>4/27/2019</td>\n",
       "      <td>False</td>\n",
       "      <td>False</td>\n",
       "      <td>False</td>\n",
       "      <td>True</td>\n",
       "      <td>False</td>\n",
       "      <td>False</td>\n",
       "      <td>True</td>\n",
       "      <td>True</td>\n",
       "      <td>False</td>\n",
       "      <td>True</td>\n",
       "    </tr>\n",
       "    <tr>\n",
       "      <th>8</th>\n",
       "      <td>8</td>\n",
       "      <td>Downtown Grocery</td>\n",
       "      <td>355 S Warren St, Syracuse, NY 13202</td>\n",
       "      <td>43.047</td>\n",
       "      <td>-76.151</td>\n",
       "      <td>4/27/2019</td>\n",
       "      <td>False</td>\n",
       "      <td>False</td>\n",
       "      <td>False</td>\n",
       "      <td>False</td>\n",
       "      <td>True</td>\n",
       "      <td>True</td>\n",
       "      <td>False</td>\n",
       "      <td>False</td>\n",
       "      <td>False</td>\n",
       "      <td>False</td>\n",
       "    </tr>\n",
       "    <tr>\n",
       "      <th>9</th>\n",
       "      <td>9</td>\n",
       "      <td>Walgreens</td>\n",
       "      <td>2329 James St, Syracuse, NY 13206</td>\n",
       "      <td>43.069</td>\n",
       "      <td>-76.114</td>\n",
       "      <td>5/1/2019</td>\n",
       "      <td>True</td>\n",
       "      <td>True</td>\n",
       "      <td>True</td>\n",
       "      <td>True</td>\n",
       "      <td>False</td>\n",
       "      <td>False</td>\n",
       "      <td>False</td>\n",
       "      <td>False</td>\n",
       "      <td>False</td>\n",
       "      <td>False</td>\n",
       "    </tr>\n",
       "  </tbody>\n",
       "</table>\n",
       "</div>"
      ],
      "text/plain": [
       "   Series            Store Name                                    Address  \\\n",
       "0       0              Wegman's      3325 W Genesee St, Syracuse, NY 13219   \n",
       "1       1                Sunoco      2101 W Genesee St, Syracuse, NY 13219   \n",
       "2       2                Sunoco      1000 W Genesee St, Syracuse, NY 13204   \n",
       "3       3  Nichol's Supermarket            327 1st St, Liverpool, NY 13088   \n",
       "4       4              Wegman's  6789 E Genesee St, Fayetteville, NY 13066   \n",
       "5       5              Wegman's     4722 Onondaga Blvd, Syracuse, NY 13219   \n",
       "6       6           Tops Market           700 1st N St, Syracuse, NY 13208   \n",
       "7       7   Alamo's Food Market          128 Walton St, Syracuse, NY 13202   \n",
       "8       8      Downtown Grocery        355 S Warren St, Syracuse, NY 13202   \n",
       "9       9             Walgreens          2329 James St, Syracuse, NY 13206   \n",
       "\n",
       "      Lat    Long Last Stocked  Beer 0  Beer 1   Beer 2  Beer 3  Beer 4  \\\n",
       "0  43.047 -76.227     5/1/2019    True     True    True    True    True   \n",
       "1  43.048 -76.197     5/3/2019    True     True   False   False    True   \n",
       "2  43.054 -76.171    4/26/2019    True     True   False    True   False   \n",
       "3  43.402 -76.208     5/1/2019    True     True    True   False    True   \n",
       "4  43.033 -76.053    4/30/2019    True     True    True    True    True   \n",
       "5  43.031 -76.192    4/30/2019    True     True    True    True    True   \n",
       "6  43.069 -76.149    4/29/2019   False    False   False    True    True   \n",
       "7  43.048 -76.155    4/27/2019   False    False   False    True   False   \n",
       "8  43.047 -76.151    4/27/2019   False    False   False   False    True   \n",
       "9  43.069 -76.114     5/1/2019    True     True    True    True   False   \n",
       "\n",
       "   Beer 5  Beer 6  Beer 7  Beer 8  Beer 9  \n",
       "0    True    True    True    True    True  \n",
       "1    True   False   False   False   False  \n",
       "2   False    True    True   False   False  \n",
       "3    True    True    True    True   False  \n",
       "4    True    True    True    True    True  \n",
       "5    True    True    True    True    True  \n",
       "6    True    True   False   False   False  \n",
       "7   False    True    True   False    True  \n",
       "8    True   False   False   False   False  \n",
       "9   False   False   False   False   False  "
      ]
     },
     "execution_count": 101,
     "metadata": {},
     "output_type": "execute_result"
    }
   ],
   "source": [
    "\n",
    "stores"
   ]
  },
  {
   "cell_type": "code",
   "execution_count": 7,
   "metadata": {
    "scrolled": true
   },
   "outputs": [
    {
     "data": {
      "text/html": [
       "<div style=\"width:100%;\"><div style=\"position:relative;width:100%;height:0;padding-bottom:60%;\"><iframe src=\"data:text/html;charset=utf-8;base64,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\" style=\"position:absolute;width:100%;height:100%;left:0;top:0;border:none !important;\" allowfullscreen webkitallowfullscreen mozallowfullscreen></iframe></div></div>"
      ],
      "text/plain": [
       "<folium.folium.Map at 0x11c2d3d30>"
      ]
     },
     "execution_count": 7,
     "metadata": {},
     "output_type": "execute_result"
    }
   ],
   "source": [
    "Syracuse = (43.0481,-76.474)\n",
    "map = folium.Map(location=Syracuse, zoom_start=8)\n",
    "\n",
    "\n",
    "\n",
    "\n",
    "\n",
    "map"
   ]
  },
  {
   "cell_type": "code",
   "execution_count": null,
   "metadata": {},
   "outputs": [],
   "source": []
  }
 ],
 "metadata": {
  "kernelspec": {
   "display_name": "Python 3",
   "language": "python",
   "name": "python3"
  },
  "language_info": {
   "codemirror_mode": {
    "name": "ipython",
    "version": 3
   },
   "file_extension": ".py",
   "mimetype": "text/x-python",
   "name": "python",
   "nbconvert_exporter": "python",
   "pygments_lexer": "ipython3",
   "version": "3.6.6"
  }
 },
 "nbformat": 4,
 "nbformat_minor": 2
}
